{
 "cells": [
  {
   "cell_type": "code",
   "execution_count": null,
   "id": "aba7c7b0",
   "metadata": {},
   "outputs": [],
   "source": [
    "import arcgis\n",
    "import time\n",
    "import os\n",
    "from arcgis.features import FeatureLayerCollection\n",
    "from arcgis.features import GeoAccessor\n",
    "from arcgis.gis import GIS\n",
    "from shapely import Point\n",
    "from schema import layer_fields\n",
    "import pandas as pd\n",
    "\n",
    "from dotenv import load_dotenv"
   ]
  },
  {
   "cell_type": "code",
   "execution_count": null,
   "id": "2228e667",
   "metadata": {},
   "outputs": [],
   "source": [
    "load_dotenv()\n",
    "\n",
    "ARCGIS_SERVER = os.getenv(\"ARCGIS_SERVER\")\n",
    "ARCGIS_USERNAME = os.getenv(\"ARCGIS_USERNAME\")\n",
    "ARCIGS_PASSWORD = os.getenv(\"ARCIGS_PASSWORD\")"
   ]
  },
  {
   "cell_type": "code",
   "execution_count": null,
   "id": "17f3d9d5",
   "metadata": {},
   "outputs": [
    {
     "data": {
      "text/html": [
       "GIS @ <a href=\"https://omniswift.maps.arcgis.com\">https://omniswift.maps.arcgis.com</a>"
      ],
      "text/plain": [
       "GIS @ https://omniswift.maps.arcgis.com version:2025.2"
      ]
     },
     "execution_count": 20,
     "metadata": {},
     "output_type": "execute_result"
    }
   ],
   "source": [
    "gis = arcgis.GIS(ARCGIS_SERVER,ARCGIS_USERNAME,ARCIGS_PASSWORD)\n",
    "gis"
   ]
  },
  {
   "cell_type": "code",
   "execution_count": null,
   "id": "fbab2ac5",
   "metadata": {},
   "outputs": [
    {
     "name": "stdout",
     "output_type": "stream",
     "text": [
      "Service name: SurveyData_1754653834\n"
     ]
    },
    {
     "name": "stderr",
     "output_type": "stream",
     "text": [
      "c:\\Users\\Admin\\AppData\\Local\\ESRI\\conda\\envs\\myarcgispro\\Lib\\site-packages\\IPython\\core\\interactiveshell.py:3550: DeprecatedWarning: create_folder is deprecated as of 2.3.0 and has been removed in 3.0.0. Use `gis.content.folders.create` instead.\n",
      "  exec(code_obj, self.user_global_ns, self.user_ns)\n"
     ]
    },
    {
     "name": "stdout",
     "output_type": "stream",
     "text": [
      "Folder created: 8d2e4ccc8db347e28c9975a04b11f2a3\n",
      "Empty service created: 6b6343b0113b425394906939d7ebb72c https://services6.arcgis.com/vXaMZMir502uvJfN/arcgis/rest/services/SurveyData_1754653834/FeatureServer\n",
      "add_to_definition: success on attempt 1\n",
      "Layer: MeterInstallations | geometry: esriGeometryPoint | URL: https://services6.arcgis.com/vXaMZMir502uvJfN/arcgis/rest/services/SurveyData_1754653834/FeatureServer/0\n"
     ]
    }
   ],
   "source": [
    "# --- CREATE EMPTY SERVICE, THEN ADD A POINT LAYER (READY FOR DATA) ---\n",
    "\n",
    "# Assumes you're already signed in:\n",
    "# gis = GIS(\"home\")  # or GIS(url, username, password)\n",
    "\n",
    "# -----------------------------\n",
    "# 0) Your attribute fields here\n",
    "# -----------------------------\n",
    "# We'll keep your existing fields and ensure OBJECTID is present.\n",
    "def ensure_oid(fields):\n",
    "    has_oid = any(\n",
    "        (f.get(\"name\",\"\").upper() == \"OBJECTID\") and (f.get(\"type\") == \"esriFieldTypeOID\")\n",
    "        for f in fields\n",
    "    )\n",
    "    if not has_oid:\n",
    "        fields = [{\n",
    "            \"name\":\"OBJECTID\",\n",
    "            \"type\":\"esriFieldTypeOID\",\n",
    "            \"alias\":\"OBJECTID\",\n",
    "            \"sqlType\":\"sqlTypeInteger\",\n",
    "            \"nullable\": False,\n",
    "            \"editable\": False\n",
    "        }] + list(fields)\n",
    "    return fields\n",
    "\n",
    "# <<< replace with your real fields >>>\n",
    "# Example only; keep your existing layer_fields variable if you already have it.\n",
    "try:\n",
    "    layer_fields = layer_fields  # use what you had\n",
    "except NameError:\n",
    "    layer_fields = [\n",
    "        {\"name\":\"fullname\",\"type\":\"esriFieldTypeString\",\"alias\":\"Full Name\",\n",
    "         \"sqlType\":\"sqlTypeVarchar\",\"length\":255,\"nullable\":True,\"editable\":True}\n",
    "    ]\n",
    "layer_fields = ensure_oid(layer_fields)\n",
    "\n",
    "# 1) Unique name (avoid collisions)\n",
    "unique_name = f\"SurveyData_{int(time.time())}\"\n",
    "print(\"Service name:\", unique_name)\n",
    "\n",
    "# 2) (Optional) remove that known ghost item if it exists\n",
    "try:\n",
    "    ghost = gis.content.get(\"vXaMZMir502uvJfN\")\n",
    "    if ghost:\n",
    "        print(\"Deleting ghost item:\", ghost.title, ghost.id)\n",
    "        ghost.delete()\n",
    "except Exception:\n",
    "    pass\n",
    "\n",
    "# 3) Create a fresh folder (correct API: create_folder, not folders.create)\n",
    "folder = gis.content.create_folder(unique_name)\n",
    "print(\"Folder created:\", folder.get(\"id\"))\n",
    "\n",
    "# 4) Item properties (do NOT force \"type\"; API handles it)\n",
    "item_properties = {\n",
    "    \"title\": unique_name,\n",
    "    \"tags\": \"ESRI, survey\",\n",
    "    \"snippet\": \"Hosted feature service for survey data\",\n",
    "    \"description\": \"Empty service; point layer will be added via add_to_definition.\"\n",
    "}\n",
    "\n",
    "# 5) Create EMPTY service (no layers yet)\n",
    "extent = {\"xmin\": -180, \"ymin\": -90, \"xmax\": 180, \"ymax\": 90, \"spatialReference\": {\"wkid\": 4326}}\n",
    "create_params = {\n",
    "    \"name\": unique_name,                      # serviceName (critical)\n",
    "    \"serviceDescription\": \"Survey data store\",\n",
    "    \"capabilities\": \"Create,Query,Update,Delete,Sync\",\n",
    "    \"maxRecordCount\": 2000,\n",
    "    \"supportedQueryFormats\": \"JSON\",\n",
    "    \"hasStaticData\": False,\n",
    "    \"initialExtent\": extent,\n",
    "    \"fullExtent\": extent,\n",
    "    \"spatialReference\": {\"wkid\": 4326},\n",
    "    \"allowGeometryUpdates\": True,\n",
    "    \"tables\": [],\n",
    "    \"layers\": []                              # EMPTY now\n",
    "}\n",
    "\n",
    "svc_item = gis.content.create_service(\n",
    "    name=unique_name,                          # also set at top level\n",
    "    service_type=\"featureService\",\n",
    "    create_params=create_params,\n",
    "    item_properties=item_properties,\n",
    "    folder=folder[\"id\"]\n",
    ")\n",
    "print(\"Empty service created:\", svc_item.id, svc_item.url)\n",
    "\n",
    "# 6) Define the POINT layer to add\n",
    "feature_layer_definition = {\n",
    "    \"id\": 0,\n",
    "    \"name\": \"MeterInstallations\",\n",
    "    \"type\": \"Feature Layer\",\n",
    "    \"geometryType\": \"esriGeometryPoint\",\n",
    "    \"objectIdField\": \"OBJECTID\",\n",
    "    \"displayField\": \"fullname\",\n",
    "    \"fields\": layer_fields,\n",
    "    \"extent\": extent,\n",
    "    \"allowGeometryUpdates\": True,\n",
    "    \"hasZ\": False,\n",
    "    \"hasM\": False,\n",
    "    \"capabilities\": \"Create,Query,Update,Delete,Sync\"\n",
    "    # Optional but sometimes helpful:\n",
    "    # \"drawingInfo\": {\"renderer\": {\"type\": \"simple\", \"symbol\": {\"type\":\"esriSMS\",\"style\":\"esriSMSCircle\",\"size\":6}}}\n",
    "}\n",
    "\n",
    "# 7) Add the layer with a safe retry (handles portal timing hiccups)\n",
    "flc = FeatureLayerCollection.fromitem(svc_item)\n",
    "payload = {\"layers\": [feature_layer_definition]}\n",
    "\n",
    "for attempt in range(1, 5):\n",
    "    try:\n",
    "        time.sleep(1.5 * attempt)  # brief wait helps provisioning\n",
    "        flc.manager.add_to_definition(payload)\n",
    "        print(f\"add_to_definition: success on attempt {attempt}\")\n",
    "        break\n",
    "    except Exception as e:\n",
    "        print(f\"add_to_definition attempt {attempt} failed:\", e)\n",
    "        if attempt == 4:\n",
    "            raise\n",
    "\n",
    "# 8) Verify the point layer exists (and print its URL)\n",
    "flc = FeatureLayerCollection.fromitem(svc_item)  # refresh\n",
    "if getattr(flc, \"layers\", None):\n",
    "    for lyr in flc.layers:\n",
    "        print(\"Layer:\", lyr.properties.name, \"| geometry:\", lyr.properties.geometryType, \"| URL:\", lyr.url)\n",
    "else:\n",
    "    raise RuntimeError(\"Layer was not created — check the layer definition or portal logs.\")"
   ]
  },
  {
   "cell_type": "code",
   "execution_count": null,
   "id": "528476a2",
   "metadata": {},
   "outputs": [],
   "source": [
    "df = pd.read_csv(\"../data/sample_data.csv\")\n",
    "df.head()"
   ]
  },
  {
   "cell_type": "code",
   "execution_count": null,
   "id": "8ac18643",
   "metadata": {},
   "outputs": [],
   "source": [
    "df.info()"
   ]
  },
  {
   "cell_type": "code",
   "execution_count": null,
   "id": "16ef5eb9",
   "metadata": {},
   "outputs": [],
   "source": [
    "df.columns"
   ]
  },
  {
   "cell_type": "code",
   "execution_count": null,
   "id": "9cfad84b",
   "metadata": {},
   "outputs": [
    {
     "name": "stdout",
     "output_type": "stream",
     "text": [
      "Target layer: MeterInstallations | geometry: esriGeometryPoint\n"
     ]
    }
   ],
   "source": [
    "flc = FeatureLayerCollection.fromitem(svc_item)\n",
    "layer = None\n",
    "for lyr in flc.layers:\n",
    "    if lyr.properties.name == \"MeterInstallations\":\n",
    "        layer = lyr\n",
    "        break\n",
    "if layer is None:\n",
    "    # fallback: take first layer\n",
    "    layer = flc.layers[0]\n",
    "print(\"Target layer:\", layer.properties.name, \"| geometry:\", layer.properties.geometryType)"
   ]
  },
  {
   "cell_type": "code",
   "execution_count": 35,
   "id": "2bc64fe1",
   "metadata": {},
   "outputs": [],
   "source": [
    "csv_path = \"../data/sample_data.csv\"   # change if needed\n",
    "lon_src   = \"d_longitude\"\n",
    "lat_src   = \"d_latitude\""
   ]
  },
  {
   "cell_type": "code",
   "execution_count": 37,
   "id": "762b7672",
   "metadata": {},
   "outputs": [
    {
     "name": "stdout",
     "output_type": "stream",
     "text": [
      "Preparing to add 11 features to layer: MeterInstallations\n",
      "Adding features 0–10 ...\n"
     ]
    },
    {
     "name": "stderr",
     "output_type": "stream",
     "text": [
      "c:\\Users\\Admin\\AppData\\Local\\ESRI\\conda\\envs\\myarcgispro\\Lib\\site-packages\\pandas\\core\\dtypes\\cast.py:1066: RuntimeWarning: invalid value encountered in cast\n",
      "  if (arr.astype(int) == arr).all():\n",
      "c:\\Users\\Admin\\AppData\\Local\\ESRI\\conda\\envs\\myarcgispro\\Lib\\site-packages\\pandas\\core\\dtypes\\cast.py:1091: RuntimeWarning: invalid value encountered in cast\n",
      "  if (arr.astype(int) == arr).all():\n",
      "c:\\Users\\Admin\\AppData\\Local\\ESRI\\conda\\envs\\myarcgispro\\Lib\\site-packages\\pandas\\core\\dtypes\\cast.py:1066: RuntimeWarning: invalid value encountered in cast\n",
      "  if (arr.astype(int) == arr).all():\n",
      "c:\\Users\\Admin\\AppData\\Local\\ESRI\\conda\\envs\\myarcgispro\\Lib\\site-packages\\pandas\\core\\dtypes\\cast.py:1091: RuntimeWarning: invalid value encountered in cast\n",
      "  if (arr.astype(int) == arr).all():\n"
     ]
    },
    {
     "name": "stdout",
     "output_type": "stream",
     "text": [
      "Append complete. Successfully added: 11/11\n",
      "Layer feature count now: 11\n"
     ]
    }
   ],
   "source": [
    "# ---- 1) Load & clean ----\n",
    "df = pd.read_csv(csv_path)\n",
    "\n",
    "# keep rows with at least one positive coord (your rule), then coerce to float\n",
    "df = df.query(f'{lon_src} > 0 | {lat_src} > 0').copy()\n",
    "df[\"longitude\"] = pd.to_numeric(df[lon_src], errors=\"coerce\")\n",
    "df[\"latitude\"]  = pd.to_numeric(df[lat_src], errors=\"coerce\")\n",
    "\n",
    "# drop NaNs and out-of-range coords\n",
    "df = df.dropna(subset=[\"longitude\", \"latitude\"])\n",
    "df = df[(df[\"longitude\"] >= -180) & (df[\"longitude\"] <= 180) &\n",
    "        (df[\"latitude\"]  >=  -90) & (df[\"latitude\"]  <=  90)]\n",
    "\n",
    "# short-circuit if nothing valid\n",
    "if df.empty:\n",
    "    raise ValueError(\"No valid rows after cleaning coordinates.\")\n",
    "\n",
    "# ---- 2) Build Spatially Enabled DF (WGS84) ----\n",
    "sdf = GeoAccessor.from_xy(df, x_column=\"longitude\", y_column=\"latitude\", sr=4326)\n",
    "\n",
    "# ---- 3) Align to layer schema ----\n",
    "# get allowed fields from target layer\n",
    "layer_fields = {f[\"name\"] for f in layer.properties.fields}\n",
    "protected = {\"OBJECTID\"}\n",
    "gid = (layer.properties.get(\"globalIdField\") or \"\").strip()\n",
    "if gid:\n",
    "    protected.add(gid)\n",
    "\n",
    "# only keep attributes that exist on the layer and are not protected\n",
    "keep_cols = [c for c in sdf.columns if (c in layer_fields) and (c not in protected)]\n",
    "\n",
    "# you can map CSV names to layer names here if needed, e.g.:\n",
    "# rename_map = {\"full_name\": \"fullname\", \"phone_no\": \"phone\"}\n",
    "# sdf = sdf.rename(columns=rename_map)\n",
    "# then recompute keep_cols if you renamed:\n",
    "# keep_cols = [c for c in sdf.columns if (c in layer_fields) and (c not in protected)]\n",
    "\n",
    "# ---- 4) Append in batches as a FeatureSet ----\n",
    "def adds_batch(sdf_batch):\n",
    "    # build featureset: attributes + geometry (SHAPE comes from sdf.spatial)\n",
    "    cols = keep_cols + [\"SHAPE\"]\n",
    "    fs = sdf_batch[cols].spatial.to_featureset()\n",
    "    res = layer.edit_features(adds=fs)\n",
    "    return res\n",
    "\n",
    "batch_size = 1000\n",
    "n = len(sdf)\n",
    "print(f\"Preparing to add {n} features to layer: {layer.properties.name}\")\n",
    "\n",
    "start = 0\n",
    "total_added = 0\n",
    "errors = []\n",
    "\n",
    "while start < n:\n",
    "    end = min(start + batch_size, n)\n",
    "    print(f\"Adding features {start}–{end-1} ...\")\n",
    "    result = adds_batch(sdf.iloc[start:end].copy())\n",
    "\n",
    "    add_results = result.get(\"addResults\", [])\n",
    "    total_added += sum(1 for r in add_results if r.get(\"success\"))\n",
    "    batch_errors = [r.get(\"error\") for r in add_results if not r.get(\"success\")]\n",
    "    if batch_errors:\n",
    "        errors.extend(batch_errors)\n",
    "        print(f\"  Warnings: {len(batch_errors)} failures in this batch\")\n",
    "\n",
    "    start = end\n",
    "\n",
    "print(f\"Append complete. Successfully added: {total_added}/{n}\")\n",
    "if errors:\n",
    "    print(f\"{len(errors)} adds failed. First few errors:\")\n",
    "    for e in errors[:5]:\n",
    "        print(\"  -\", e)\n",
    "\n",
    "# ---- 5) Verify feature count ----\n",
    "count_after = layer.query(return_count_only=True)\n",
    "print(\"Layer feature count now:\", count_after)"
   ]
  },
  {
   "cell_type": "code",
   "execution_count": null,
   "id": "6f7b4672",
   "metadata": {},
   "outputs": [],
   "source": [
    "# import pyodbc\n",
    "# import os\n",
    "\n",
    "# # If you're using environment variables, uncomment and use this:\n",
    "# # from dotenv import load_dotenv\n",
    "# # load_dotenv()\n",
    "\n",
    "# # DRIVER = os.getenv(\"DRIVER\")\n",
    "# # SERVER = os.getenv(\"SERVER\")\n",
    "# # USER = os.getenv(\"USER\")\n",
    "# # DATABASE = os.getenv(\"DATABASE\")\n",
    "# # PASSWORD = os.getenv(\"PASSWORD\")\n",
    "\n",
    "# # # Direct connection string (hardcoded — not recommended for production)\n",
    "# # conn_string = r\"\"\"\n",
    "# #     DRIVER={ODBC Driver 18 for SQL Server};\n",
    "# #     SERVER=nimmes-server.database.windows.net;\n",
    "# #     DATABASE=nimmes-db-20241707;\n",
    "# #     UID=nimmes_sever_db_root;\n",
    "# #     PWD=:H&]S?)8De8'\\''ee_G;\n",
    "# #     Encrypt=yes;\n",
    "# #     TrustServerCertificate=no;\n",
    "# #     Authentication=SqlPassword;\n",
    "# # \"\"\"\n",
    "\n",
    "# # try:\n",
    "# #     conn = pyodbc.connect(conn_string)\n",
    "# #     print(\"Connected to the database successfully!\")\n",
    "# # except Exception as e:\n",
    "# #     print(\"Error connecting to the database:\", e)\n",
    "\n",
    "# SQL_CONNECTION_STRING=\"Driver={ODBC Driver 18 for SQL Server};Server=nimmes-server.database.windows.net;Database=nimmes-db-20241707;\\\n",
    "#                                  UID=nimmes_sever_db_root;PWD=:H&]S?)8De8'\\''ee_G;Encrypt=yes;TrustServerCertificate=no;Authentication=ActiveDirectoryInteractive\"\n",
    "\n",
    "# conn = pyodbc.connect(SQL_CONNECTION_STRING)"
   ]
  }
 ],
 "metadata": {
  "kernelspec": {
   "display_name": "myarcgispro",
   "language": "python",
   "name": "python3"
  },
  "language_info": {
   "codemirror_mode": {
    "name": "ipython",
    "version": 3
   },
   "file_extension": ".py",
   "mimetype": "text/x-python",
   "name": "python",
   "nbconvert_exporter": "python",
   "pygments_lexer": "ipython3",
   "version": "3.11.10"
  }
 },
 "nbformat": 4,
 "nbformat_minor": 5
}
